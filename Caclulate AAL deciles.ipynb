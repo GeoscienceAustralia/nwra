{
 "cells": [
  {
   "cell_type": "code",
   "execution_count": 1,
   "metadata": {},
   "outputs": [],
   "source": [
    "import pandas as pd\n",
    "import numpy as np"
   ]
  },
  {
   "cell_type": "code",
   "execution_count": 2,
   "metadata": {},
   "outputs": [],
   "source": [
    "df = pd.read_csv(r\"x:\\georisk\\HaRIA_B_Wind\\projects\\acs\\2. DATA\\1. Work Unit Assessment\\NWRA\\impact\\post processing\\final\\Aus_AAL_rank_by_SA1_Table.csv\")"
   ]
  },
  {
   "cell_type": "code",
   "execution_count": 17,
   "metadata": {},
   "outputs": [],
   "source": [
    "df['Decile'] = pd.cut(df['AAL'], bins=df['AAL'].quantile(np.arange(0, 11)/10), right=True, labels=list(np.arange(1, 11)))"
   ]
  },
  {
   "cell_type": "code",
   "execution_count": 24,
   "metadata": {},
   "outputs": [],
   "source": [
    "df.to_csv(r\"x:\\georisk\\HaRIA_B_Wind\\projects\\acs\\2. DATA\\1. Work Unit Assessment\\NWRA\\impact\\post processing\\final\\Aus_AAL_rank_by_SA1_Table.csv\", index=False)"
   ]
  },
  {
   "cell_type": "code",
   "execution_count": 6,
   "metadata": {},
   "outputs": [
    {
     "data": {
      "text/html": [
       "<div>\n",
       "<style scoped>\n",
       "    .dataframe tbody tr th:only-of-type {\n",
       "        vertical-align: middle;\n",
       "    }\n",
       "\n",
       "    .dataframe tbody tr th {\n",
       "        vertical-align: top;\n",
       "    }\n",
       "\n",
       "    .dataframe thead th {\n",
       "        text-align: right;\n",
       "    }\n",
       "</style>\n",
       "<table border=\"1\" class=\"dataframe\">\n",
       "  <thead>\n",
       "    <tr style=\"text-align: right;\">\n",
       "      <th></th>\n",
       "      <th>min</th>\n",
       "      <th>mean</th>\n",
       "      <th>median</th>\n",
       "      <th>max</th>\n",
       "    </tr>\n",
       "    <tr>\n",
       "      <th>STATE</th>\n",
       "      <th></th>\n",
       "      <th></th>\n",
       "      <th></th>\n",
       "      <th></th>\n",
       "    </tr>\n",
       "  </thead>\n",
       "  <tbody>\n",
       "    <tr>\n",
       "      <th>ACT</th>\n",
       "      <td>0.000191</td>\n",
       "      <td>0.003160</td>\n",
       "      <td>0.002829</td>\n",
       "      <td>0.008155</td>\n",
       "    </tr>\n",
       "    <tr>\n",
       "      <th>NSW</th>\n",
       "      <td>0.000048</td>\n",
       "      <td>0.003115</td>\n",
       "      <td>0.002867</td>\n",
       "      <td>0.033783</td>\n",
       "    </tr>\n",
       "    <tr>\n",
       "      <th>NT</th>\n",
       "      <td>0.000114</td>\n",
       "      <td>0.001833</td>\n",
       "      <td>0.001298</td>\n",
       "      <td>0.007405</td>\n",
       "    </tr>\n",
       "    <tr>\n",
       "      <th>QLD</th>\n",
       "      <td>0.000000</td>\n",
       "      <td>0.002581</td>\n",
       "      <td>0.002050</td>\n",
       "      <td>0.016796</td>\n",
       "    </tr>\n",
       "    <tr>\n",
       "      <th>SA</th>\n",
       "      <td>0.000068</td>\n",
       "      <td>0.002306</td>\n",
       "      <td>0.001585</td>\n",
       "      <td>0.027956</td>\n",
       "    </tr>\n",
       "    <tr>\n",
       "      <th>TAS</th>\n",
       "      <td>0.000357</td>\n",
       "      <td>0.003140</td>\n",
       "      <td>0.002980</td>\n",
       "      <td>0.016026</td>\n",
       "    </tr>\n",
       "    <tr>\n",
       "      <th>VIC</th>\n",
       "      <td>0.000168</td>\n",
       "      <td>0.001934</td>\n",
       "      <td>0.001610</td>\n",
       "      <td>0.019319</td>\n",
       "    </tr>\n",
       "    <tr>\n",
       "      <th>WA</th>\n",
       "      <td>0.000082</td>\n",
       "      <td>0.002316</td>\n",
       "      <td>0.001610</td>\n",
       "      <td>0.015940</td>\n",
       "    </tr>\n",
       "  </tbody>\n",
       "</table>\n",
       "</div>"
      ],
      "text/plain": [
       "            min      mean    median       max\n",
       "STATE                                        \n",
       "ACT    0.000191  0.003160  0.002829  0.008155\n",
       "NSW    0.000048  0.003115  0.002867  0.033783\n",
       "NT     0.000114  0.001833  0.001298  0.007405\n",
       "QLD    0.000000  0.002581  0.002050  0.016796\n",
       "SA     0.000068  0.002306  0.001585  0.027956\n",
       "TAS    0.000357  0.003140  0.002980  0.016026\n",
       "VIC    0.000168  0.001934  0.001610  0.019319\n",
       "WA     0.000082  0.002316  0.001610  0.015940"
      ]
     },
     "execution_count": 6,
     "metadata": {},
     "output_type": "execute_result"
    }
   ],
   "source": [
    "df.groupby('STATE')['AAL'].aggregate(['min', 'mean', 'median', 'max'])"
   ]
  }
 ],
 "metadata": {
  "kernelspec": {
   "display_name": "process",
   "language": "python",
   "name": "python3"
  },
  "language_info": {
   "codemirror_mode": {
    "name": "ipython",
    "version": 3
   },
   "file_extension": ".py",
   "mimetype": "text/x-python",
   "name": "python",
   "nbconvert_exporter": "python",
   "pygments_lexer": "ipython3",
   "version": "3.9.18"
  }
 },
 "nbformat": 4,
 "nbformat_minor": 2
}
