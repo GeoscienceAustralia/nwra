{
 "cells": [
  {
   "cell_type": "markdown",
   "metadata": {},
   "source": [
    "# Provenance document for vulnerability model NRML file\n",
    "\n",
    "This noteook generates a provenance document describing the creation of an NRML-format file containing the full suite of wind vulnerability models used in the National Wind Risk Asessment (2023/24). \n",
    "\n",
    "Dates, paths and filenames are set manually in the relevant cells. "
   ]
  },
  {
   "cell_type": "code",
   "execution_count": 1,
   "metadata": {},
   "outputs": [
    {
     "data": {
      "text/plain": [
       "<Namespace: git {http://example.org/gitontology#}>"
      ]
     },
     "execution_count": 1,
     "metadata": {},
     "output_type": "execute_result"
    }
   ],
   "source": [
    "import os\n",
    "from prov.model import ProvDocument\n",
    "from prov.dot import prov_to_dot\n",
    "from datetime import datetime\n",
    "from time import ctime, localtime, strftime\n",
    "\n",
    "provdoc = ProvDocument()\n",
    "provdoc.set_default_namespace(\"\")\n",
    "provdoc.add_namespace(\"nwra\", \"http://www.ga.gova.au/hazards\")\n",
    "provdoc.add_namespace(\"prov\", \"http://www.w3.org/ns/prov#\")\n",
    "provdoc.add_namespace(\"xsd\", \"http://www.w3.org/2001/XMLSchema#\")\n",
    "provdoc.add_namespace(\"foaf\", \"http://xmlns.com/foaf/0.1/\")\n",
    "provdoc.add_namespace(\"void\", \"http://vocab.deri.ie/void#\")\n",
    "provdoc.add_namespace(\"dcterms\", \"http://purl.org/dc/terms/\")\n",
    "provdoc.add_namespace(\"git\", \"http://example.org/gitontology#\")"
   ]
  },
  {
   "cell_type": "code",
   "execution_count": 2,
   "metadata": {},
   "outputs": [],
   "source": [
    "DATEFMT = \"%Y-%m-%dT%H:%M:%S\"\n",
    "\n",
    "def flModDate(filename, dateformat=\"%Y-%m-%d %H:%M:%S\"):\n",
    "    \"\"\"\n",
    "    Return the last modified date of the input file\n",
    "\n",
    "    :param str filename: file name (full path).\n",
    "    :param str dateformat: Format string for the date (default\n",
    "                           '%Y-%m-%d %H:%M:%S')\n",
    "    :returns: File modification date/time as a string\n",
    "    :rtype: str\n",
    "\n",
    "    Example: modDate = flModDate('C:/foo/bar.csv' ,\n",
    "                                 dateformat='%Y-%m-%dT%H:%M:%S')\n",
    "    \"\"\"\n",
    "    try:\n",
    "        si = os.stat(filename)\n",
    "    except (IOError, WindowsError):\n",
    "        print(f\"Input file is not a valid file: {filename}\")\n",
    "    moddate = localtime(si.st_mtime)\n",
    "    if dateformat:\n",
    "        return strftime(dateformat, moddate)\n",
    "    else:\n",
    "        return datetime.datetime(*moddate[:6])"
   ]
  },
  {
   "cell_type": "markdown",
   "metadata": {},
   "source": [
    "### Entities"
   ]
  },
  {
   "cell_type": "code",
   "execution_count": 3,
   "metadata": {},
   "outputs": [],
   "source": [
    "e1file = \"X:/georisk/HaRIA_B_Wind/projects/acs/2. DATA/1. Work Unit Assessment/NWRA/vulnerability/ACS Phase 0 wind vulnerability curves.xlsx\"\n",
    "e1 = provdoc.entity(\"nwra:sourceVulnerabilityFile\",\n",
    "                    {\n",
    "                        \"dcterms:title\": \"ACS Phase 0 wind vulnerability curves.xlsx\",\n",
    "                        \"dcterms:description\": \"This spreadsheet documents the adjustment of GA's heuristic National Wind Risk Assessment vulnerability curves originally produced in 2009 - 2010 for CaRSA and subsequently ACS Phase 0.\",\n",
    "                        \"dcterms:created\": flModDate(e1file, DATEFMT),\n",
    "                        \"prov:location\": e1file,\n",
    "                        \"dcterms:format\": \"Microsoft Excel spreadsheet\",\n",
    "                        \"dcterms:creator\": \"Martin Wehner\"\n",
    "                    })\n",
    "\n",
    "e2file = \"X:/georisk/HaRIA_B_Wind/projects/acs/2. DATA/1. Work Unit Assessment/NWRA/vulnerability/NWRA domestic wind 2023 vulnerability set.csv\"\n",
    "e2 = provdoc.entity(\"nwra:vulnerabilityModelSet\",\n",
    "                    {\n",
    "                        \"dcterms:title\": \"NWRA domestic wind vulnerability model set\",\n",
    "                        \"dcterms:description\": \"NWRA vulnerability model set that describes the full set of wind vulnerability models\",\n",
    "                        \"dcterms:created\": flModDate(e2file, DATEFMT),\n",
    "                        \"prov:location\": e2file,\n",
    "                        \"dcterms:format\": \"Microsoft Excel Comma Separated Values\"\n",
    "                    })\n",
    "\n",
    "e3file = \"X:/georisk/HaRIA_B_Wind/projects/acs/2. DATA/1. Work Unit Assessment/NWRA/vulnerability/domestic_wind_2023.xml\"\n",
    "e3 = provdoc.entity(\"nwra:vulnerabilityNRMLFile\",\n",
    "                    {\n",
    "                        \"dcterms:title\": \"NWRA domestic wind vulnerability model set NRML\",\n",
    "                        \"dcterms:description\": \"NRML format of the domestic wind vulnerability functions to be used in the NWRA\",\n",
    "                        \"dcterms:created\": flModDate(e3file, DATEFMT),\n",
    "                        \"prov:location\": e3file,\n",
    "                        \"dcterms:format\": \"Natural hazard and Risk Markup Language (NRML)\"\n",
    "                    })"
   ]
  },
  {
   "cell_type": "markdown",
   "metadata": {},
   "source": [
    "### Agents"
   ]
  },
  {
   "cell_type": "code",
   "execution_count": 4,
   "metadata": {},
   "outputs": [
    {
     "data": {
      "text/plain": [
       "<ProvAgent: HazImp>"
      ]
     },
     "execution_count": 4,
     "metadata": {},
     "output_type": "execute_result"
    }
   ],
   "source": [
    "provdoc.agent(\":GeoscienceAustralia\",\n",
    "              {\n",
    "                  \"foaf:name\": \"Geoscience Australia\",\n",
    "                  \"dcterms:type\": \"foaf:Organization\",\n",
    "                  \"foaf:mbox\": \"hazards@ga.gov.au\"\n",
    "              }\n",
    "             )\n",
    "\n",
    "provdoc.agent(\":NHIStaff\",\n",
    "              {\n",
    "                  \"foaf:name\": \"Craig Arthur\",\n",
    "                  \"dcterms:type\": \"prov:Person\",\n",
    "                  \"foaf:mbox\": \"craig.arthur@ga.gov.au\",\n",
    "              })\n",
    "\n",
    "provdoc.agent(\":VRMStaff\",\n",
    "              {\n",
    "                  \"foaf:name\": \"Martin Wehner\",\n",
    "                  \"dcterms:type\": \"prov:Person\",\n",
    "                  \"foaf:mbox\": \"martin.wehner@ga.gov.au\",\n",
    "              })\n",
    "\n",
    "# Need to get the git repo data for git revision, url, etc.:\n",
    "provdoc.agent(\":HazImp\",\n",
    "              {\n",
    "                  \"foaf:name\": \"HazImp Impact Assessment\",\n",
    "                  \"dcterms:type\": \"prov:softwareAgent\",\n",
    "                  \"prov:location\": \"https://github.com/GeoscienceAustralia/hazimp\",\n",
    "                  \"git:commitHash\": \"2e6cd7166bfc491489805ebe21323643116a58d6\",\n",
    "                  \"git:commitDate\": \"2023-07-23T11:04:00\"\n",
    "              })\n",
    "\n"
   ]
  },
  {
   "cell_type": "markdown",
   "metadata": {},
   "source": [
    "### Activities"
   ]
  },
  {
   "cell_type": "code",
   "execution_count": 5,
   "metadata": {},
   "outputs": [],
   "source": [
    "a1 = provdoc.activity(\"nwra:extractModelSet\",\n",
    "                      startTime=datetime(2023, 10, 12),\n",
    "                      endTime=datetime(2023, 10, 12),\n",
    "                      other_attributes={\n",
    "                          \"dcterms:title\": \"Extract Model Set\",\n",
    "                          \"dcterms:description\": \"Extract the model set from the source vulnerability file to a simplified spreadsheet\"\n",
    "                      })\n",
    "\n",
    "a2 = provdoc.activity(\"nwra:translateModelSet\",\n",
    "                      startTime=datetime(2023, 10, 12, 15, 40),\n",
    "                      endTime=datetime(2023, 10, 12, 15, 41),\n",
    "                      other_attributes={\n",
    "                          \"dcterms:title\": \"Translate model set\",\n",
    "                          \"dcterms:description\": \"Translate vulnerability model set from a csv format to NRML format\"\n",
    "                      })"
   ]
  },
  {
   "cell_type": "markdown",
   "metadata": {},
   "source": [
    "### Associations"
   ]
  },
  {
   "cell_type": "code",
   "execution_count": 6,
   "metadata": {},
   "outputs": [
    {
     "data": {
      "text/plain": [
       "<ProvDelegation: (VRMStaff, GeoscienceAustralia)>"
      ]
     },
     "execution_count": 6,
     "metadata": {},
     "output_type": "execute_result"
    }
   ],
   "source": [
    "provdoc.wasDerivedFrom(e2, e1, a1)\n",
    "provdoc.wasDerivedFrom(e3, e2, a2)\n",
    "provdoc.wasGeneratedBy(e2, a1, time=datetime(2023, 10, 12, 15, 10))\n",
    "provdoc.wasGeneratedBy(e3, a2, time=datetime(2023, 10, 12, 15, 41))\n",
    "\n",
    "provdoc.used(a1, e1, datetime(2023, 10, 12))\n",
    "provdoc.used(a2, e2, datetime(2023, 10, 12, 15, 40))\n",
    "\n",
    "\n",
    "provdoc.wasAssociatedWith(a1, \":NHIStaff\")\n",
    "provdoc.wasAssociatedWith(a2, \":HazImp\")\n",
    "provdoc.wasAttributedTo(e1, \":VRMStaff\")\n",
    "provdoc.wasAttributedTo(e2, \":NHIStaff\")\n",
    "\n",
    "provdoc.actedOnBehalfOf(\":NHIStaff\", \":GeoscienceAustralia\")\n",
    "provdoc.actedOnBehalfOf(\"VRMStaff\", \":GeoscienceAustralia\")"
   ]
  },
  {
   "cell_type": "markdown",
   "metadata": {},
   "source": [
    "### Write the provenance\n",
    "\n",
    "Write the provenance information to XML and generate a directed graph of the associations"
   ]
  },
  {
   "cell_type": "code",
   "execution_count": 7,
   "metadata": {},
   "outputs": [],
   "source": [
    "dot = prov_to_dot(provdoc, direction=\"TB\", use_labels=True)\n",
    "dot.write_png('windvulnerabilitymodelprovenance.png')\n",
    "provdoc.serialize('windvulnerabilitymodelprovenance.xml', format='xml')"
   ]
  },
  {
   "cell_type": "markdown",
   "metadata": {},
   "source": [
    "### Validate the PROV-XML\n",
    "\n",
    "Run the resulting XML file through the schema validation to ensure the XML is valid PROV information. If there is an exception raised at this point, then there is an error somewhere back in the definition of the elements. Check the specific line indicated in the XML file for errors.\n",
    "\n",
    "If no errors are reported, then the XML file is a valid PROV-XML document."
   ]
  },
  {
   "cell_type": "code",
   "execution_count": 8,
   "metadata": {},
   "outputs": [],
   "source": [
    "from lxml import etree\n",
    "from pathlib import Path\n",
    "\n",
    "PROVXML_SCHEMA=\"C:/WorkSpace/prov/prov.xsd\"\n",
    "schema = etree.XMLSchema(etree.parse(PROVXML_SCHEMA))\n",
    "schema.assert_(etree.parse('windvulnerabilitymodelprovenance.xml')) "
   ]
  }
 ],
 "metadata": {
  "kernelspec": {
   "display_name": "Python 3.9.18 ('tsed')",
   "language": "python",
   "name": "python3"
  },
  "language_info": {
   "codemirror_mode": {
    "name": "ipython",
    "version": 3
   },
   "file_extension": ".py",
   "mimetype": "text/x-python",
   "name": "python",
   "nbconvert_exporter": "python",
   "pygments_lexer": "ipython3",
   "version": "3.9.18"
  },
  "orig_nbformat": 4,
  "vscode": {
   "interpreter": {
    "hash": "78a1d9be3497c69e2d8fd50b57d01abd8947d8f616c51a09b2894fb7e0d0a910"
   }
  }
 },
 "nbformat": 4,
 "nbformat_minor": 2
}
