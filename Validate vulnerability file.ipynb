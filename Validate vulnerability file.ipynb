{
 "cells": [
  {
   "cell_type": "markdown",
   "metadata": {},
   "source": [
    "# Validate vulnerability file\n",
    "\n",
    "Validate the content of a vulnerability file, and plot up the functions for use in reporting. "
   ]
  },
  {
   "cell_type": "code",
   "execution_count": null,
   "metadata": {},
   "outputs": [],
   "source": [
    "import os\n",
    "import pandas as pd\n",
    "from lxml import etree\n",
    "\n",
    "import numpy as np\n",
    "import matplotlib.pyplot as plt\n",
    "import seaborn as sns\n",
    "sns.set_style('whitegrid')\n",
    "sns.set_context(\"talk\")\n",
    "sns.set_palette(\"Paired\", 10)"
   ]
  },
  {
   "cell_type": "markdown",
   "metadata": {},
   "source": [
    "Specify the path where the vulnerability data are stored, and the specific file names. "
   ]
  },
  {
   "cell_type": "code",
   "execution_count": null,
   "metadata": {},
   "outputs": [],
   "source": [
    "basePath = r\"X:\\georisk\\HaRIA_B_Wind\\projects\\acs\\2. DATA\\1. Work Unit Assessment\\NWRA\\vulnerability\"\n",
    "nrmlFile = os.path.join(basePath, \"domestic_wind_2023.xml\")\n",
    "mappingFile = os.path.join(basePath, \"NWRA domestic wind 2023 vulnerability attribute mapping table.csv\")\n",
    "ns = {'nrml': 'http://openquake.org/xmlns/nrml/0.5'}\n"
   ]
  },
  {
   "cell_type": "markdown",
   "metadata": {},
   "source": [
    "Parse the NRML file, returning a list of the vulnerability function labels that exist in the file."
   ]
  },
  {
   "cell_type": "code",
   "execution_count": null,
   "metadata": {},
   "outputs": [],
   "source": [
    "nrmltree = etree.parse(nrmlFile)\n",
    "vulnFuncs = nrmltree.xpath(\n",
    "    '//nrml:vulnerabilityFunction/@id',\n",
    "    namespaces=ns\n",
    ")"
   ]
  },
  {
   "cell_type": "markdown",
   "metadata": {},
   "source": [
    "Load the mapping table and get a list of the unique vulnerability function labels"
   ]
  },
  {
   "cell_type": "code",
   "execution_count": null,
   "metadata": {},
   "outputs": [],
   "source": [
    "mapdf = pd.read_csv(mappingFile)\n",
    "mapFuncs = mapdf['Wind Vulnerability Function ID'].unique().tolist()"
   ]
  },
  {
   "cell_type": "markdown",
   "metadata": {},
   "source": [
    "This prints the set of functions that exist in the NRML file, but do not exist in the mapping file. If the list is empty, then all vulnerability functions from the NRML file are found in the mapping table."
   ]
  },
  {
   "cell_type": "code",
   "execution_count": null,
   "metadata": {},
   "outputs": [],
   "source": [
    "list(set(vulnFuncs) - set(mapFuncs))"
   ]
  },
  {
   "cell_type": "markdown",
   "metadata": {},
   "source": [
    "This prints the set of functions that exist in the mapping file, but do not exist in the NRML file. If the list is empty, then all vulnerability functions from the mapping table are found in the NRML file. If both are empty, then the set of vulnerability functions match. "
   ]
  },
  {
   "cell_type": "code",
   "execution_count": null,
   "metadata": {},
   "outputs": [],
   "source": [
    "list(set(mapFuncs) - set(vulnFuncs))"
   ]
  },
  {
   "cell_type": "code",
   "execution_count": null,
   "metadata": {},
   "outputs": [],
   "source": [
    "vulnFuncs = nrmltree.xpath(\n",
    "    '//nrml:vulnerabilityFunction',\n",
    "    namespaces=ns\n",
    ")"
   ]
  },
  {
   "cell_type": "code",
   "execution_count": null,
   "metadata": {},
   "outputs": [],
   "source": [
    "def plotVulnFunc(id, iml, meanlr):\n",
    "    fig, ax = plt.subplots(1, 1, figsize=(12, 6))\n",
    "    iml *= 3.6 # Convert to km/h\n",
    "    ax.plot(iml, meanlr, lw=2, ls='--')\n",
    "    ax.set_xlabel(\"0.2 second gust wind speed [km/h]\")\n",
    "    ax.set_ylabel(\"Damage ratio\")\n",
    "    ax.set_ylim((0, 1.0))\n",
    "    ax.set_title(f\"Vulnerability function: {id}\")\n",
    "    fig.tight_layout()\n",
    "    plt.savefig(os.path.join(basePath, \"plots\", f\"{id}.png\"))\n",
    "    plt.close(fig)"
   ]
  },
  {
   "cell_type": "code",
   "execution_count": null,
   "metadata": {},
   "outputs": [],
   "source": [
    "for vf in vulnFuncs:\n",
    "    vfid = vf.get('id')\n",
    "    imls = vf.find('./nrml:imls', namespaces=ns)\n",
    "    meanLRs = vf.find('./nrml:meanLRs', namespaces=ns)\n",
    "    if imls is not None and meanLRs is not None:\n",
    "        imls_values = np.array([float(value) for value in imls.text.strip().split()])\n",
    "        meanLRs_values = np.array([float(value) for value in meanLRs.text.strip().split()])\n",
    "        plotVulnFunc(vfid, imls_values, meanLRs_values)\n",
    "        #print(f\"vulnerabilityFunction ID: {vfid}\")\n",
    "        #print(f\"imls values: {imls_values}\")\n",
    "        #print(f\"meanLRs values: {meanLRs_values}\")\n",
    "        #print()"
   ]
  },
  {
   "cell_type": "code",
   "execution_count": null,
   "metadata": {},
   "outputs": [],
   "source": [
    "for idx, grp in mapdf.groupby(['State', 'Region', 'AS4055  Class', 'Age', 'Roof material']):\n",
    "    wvfid = grp['Wind Vulnerability Function ID'].values\n",
    "    labels = grp['Wall material'].values\n",
    "    title = f\"{idx[0]} - {idx[1]} - {idx[2]} - {idx[3]} - {idx[4]}\"\n",
    "    fig, ax = plt.subplots(1, 1, figsize=(12, 6))\n",
    "    \n",
    "    for id, label in zip(wvfid, labels):\n",
    "        targetvf = nrmltree.xpath(f'//nrml:vulnerabilityFunction[@id=\"{id}\"]', namespaces=ns)\n",
    "        imls = targetvf[0].find('./nrml:imls', namespaces=ns)\n",
    "        meanLRs = targetvf[0].find('./nrml:meanLRs', namespaces=ns)\n",
    "        if imls is not None and meanLRs is not None:\n",
    "            imls_values = np.array([float(value) for value in imls.text.strip().split()])\n",
    "            meanLRs_values = np.array([float(value) for value in meanLRs.text.strip().split()])\n",
    "        else:\n",
    "            next\n",
    "        imls_values *= 3.6 # Convert to km/h\n",
    "        ax.plot(imls_values, meanLRs_values, label=label, lw=2, ls='--')\n",
    "    ax.set_xlabel(\"0.2 second gust wind speed [km/h]\")\n",
    "    ax.set_ylabel(\"Damage ratio\")\n",
    "    ax.set_ylim((0, 1.0))\n",
    "    ax.set_title(title)\n",
    "    ax.legend(fontsize='x-small', title=\"Wall material\")\n",
    "    fig.tight_layout()\n",
    "    plt.savefig(os.path.join(basePath, \"plots\", f\"{title.replace('/', '-')}.png\"))\n",
    "    plt.close(fig)"
   ]
  },
  {
   "cell_type": "code",
   "execution_count": null,
   "metadata": {},
   "outputs": [],
   "source": [
    "exceldf = pd.read_excel(r\"X:\\georisk\\HaRIA_B_Wind\\projects\\acs\\2. DATA\\1. Work Unit Assessment\\NWRA\\vulnerability\\ACS Phase 0 wind vulnerability curves.xlsx\", sheet_name=\"NWRA\", header=4,)\n",
    "exceldf.set_index(\"Model Number\", drop=False, inplace=True)\n",
    "exceldf.drop('Unnamed: 8', axis=1, inplace=True)\n",
    "exceldf.dropna(subset='Alpha', inplace=True)\n",
    "imls = exceldf.columns[-38:].values"
   ]
  },
  {
   "cell_type": "code",
   "execution_count": null,
   "metadata": {},
   "outputs": [],
   "source": [
    "for idx, grp in exceldf.groupby(['Region', 'Age', 'AS4055 class.', 'Roof material'], dropna=False):\n",
    "    wvfid = grp['Model Number'].values\n",
    "    labels = grp['Wall material'].values\n",
    "    if pd.isna(idx[2]):\n",
    "        title = f\"{idx[0]} - {idx[1]} - {idx[3]}\"\n",
    "    else:\n",
    "        title = f\"{idx[0]} - {idx[1]} - {idx[2]} - {idx[3]}\"\n",
    "    fig, ax = plt.subplots(1, 1, figsize=(12, 6))\n",
    "    for id, label in zip(wvfid, labels):\n",
    "        meanLRs = exceldf.loc[id].values[-38:]\n",
    "        ax.plot(imls*3.6, meanLRs, label=label, lw=2, ls='--')\n",
    "    ax.set_xlabel(\"0.2 second gust wind speed [km/h]\")\n",
    "    ax.set_ylabel(\"Damage ratio\")\n",
    "    ax.set_ylim((0, 1.0))\n",
    "    ax.set_title(title)\n",
    "    ax.legend(fontsize='x-small', title=\"Wall material\")\n",
    "    fig.tight_layout()\n",
    "    plt.savefig(os.path.join(basePath, \"plots\", f\"{title.replace('/', '-')}.png\"))\n",
    "    plt.close(fig)"
   ]
  }
 ],
 "metadata": {
  "kernelspec": {
   "display_name": "Python 3.9.18 ('tsed')",
   "language": "python",
   "name": "python3"
  },
  "language_info": {
   "codemirror_mode": {
    "name": "ipython",
    "version": 3
   },
   "file_extension": ".py",
   "mimetype": "text/x-python",
   "name": "python",
   "nbconvert_exporter": "python",
   "pygments_lexer": "ipython3",
   "version": "3.9.18"
  },
  "orig_nbformat": 4,
  "vscode": {
   "interpreter": {
    "hash": "78a1d9be3497c69e2d8fd50b57d01abd8947d8f616c51a09b2894fb7e0d0a910"
   }
  }
 },
 "nbformat": 4,
 "nbformat_minor": 2
}
