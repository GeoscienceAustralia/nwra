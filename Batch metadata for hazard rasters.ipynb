{
 "cells": [
  {
   "cell_type": "markdown",
   "metadata": {},
   "source": [
    "# Batch metadata creation for hazard rasters\n",
    "\n",
    "This notebook will create a metadata xml file for each geotiff file in a given folder. It takes an existing XML metadata file and updates the creation date and bounding extents based on the geotiff files. \n",
    "\n",
    "You need to create an XML metadata file in ArcGIS Pro, with at the very minimum a bounding box and a title element. "
   ]
  },
  {
   "cell_type": "code",
   "execution_count": 9,
   "metadata": {},
   "outputs": [],
   "source": [
    "import os\n",
    "import xml.etree.ElementTree as ET\n",
    "from osgeo import gdal\n",
    "from files import flModDate\n",
    "gdal.UseExceptions()\n"
   ]
  },
  {
   "cell_type": "code",
   "execution_count": 10,
   "metadata": {},
   "outputs": [],
   "source": [
    "XMLTEMPLATE = r\"X:\\georisk\\HaRIA_B_Wind\\projects\\acs\\2. DATA\\1. Work Unit Assessment\\NWRA\\hazard\\local\\RP1_smooth\\e113.3512s21.0393.tif.xml\"\n",
    "DATEFMT = \"%Y-%m-%dT%H:%M:%S\"\n",
    "filename = r\"X:\\georisk\\HaRIA_B_Wind\\projects\\acs\\2. DATA\\1. Work Unit Assessment\\NWRA\\hazard\\local\\RP1_smooth\\e113.3512s21.0393.tif\""
   ]
  },
  {
   "cell_type": "code",
   "execution_count": 11,
   "metadata": {},
   "outputs": [],
   "source": [
    "def get_geotiff_extent(geotiff_file: str):\n",
    "    \"\"\"\n",
    "    Get extent of a GeoTIFF file\n",
    "\n",
    "    :param str geotiff_file: Path to the geoTIFF file\n",
    "    :return: Extents of the file in the native coordinate system\n",
    "    :rtype: tuple\n",
    "    \"\"\"\n",
    "    # Open the GeoTIFF file\n",
    "    dataset = gdal.Open(geotiff_file)\n",
    "\n",
    "    if not dataset:\n",
    "        print(\"Error: Unable to open GeoTIFF file.\")\n",
    "        return None\n",
    "\n",
    "    # Get the geotransform information\n",
    "    geotransform = dataset.GetGeoTransform()\n",
    "\n",
    "    # Get raster dimensions\n",
    "    width = dataset.RasterXSize\n",
    "    height = dataset.RasterYSize\n",
    "\n",
    "    # Calculate the bounding box coordinates\n",
    "    west_bl = geotransform[0]\n",
    "    north_bl = geotransform[3]\n",
    "    east_bl = geotransform[0] + width * geotransform[1]\n",
    "    south_bl = geotransform[3] + height * geotransform[5]\n",
    "\n",
    "    # Close the dataset\n",
    "    dataset = None\n",
    "\n",
    "    return west_bl, east_bl, south_bl, north_bl\n"
   ]
  },
  {
   "cell_type": "code",
   "execution_count": 12,
   "metadata": {},
   "outputs": [],
   "source": [
    "def updateMetadata(geotiff, title):\n",
    "    \"\"\"\n",
    "    Update the metadata for a GeoTIFF file, by updating the template and writing out to a new xml file\n",
    "\n",
    "    :param str geotiff: Path to a GeoTIFF file\n",
    "    :param str title: Title of the dataset\n",
    "    \"\"\"\n",
    "    \n",
    "    geotiff_extent = get_geotiff_extent(geotiff)\n",
    "    # Parse the XML file\n",
    "    tree = ET.parse(XMLTEMPLATE)\n",
    "    root = tree.getroot()\n",
    "\n",
    "    # Update dataIdInfo/idCitation/resTitle\n",
    "    res_title_element = root.find(\".//dataIdInfo/idCitation/resTitle\")\n",
    "    if res_title_element is not None:\n",
    "        res_title_element.text = title\n",
    "\n",
    "    createDate_element = root.find(\".//dataIdInfo/idCitation/date/createDate\")\n",
    "    if createDate_element is not None:\n",
    "        createDate_element.text = flModDate(geotiff, DATEFMT)\n",
    "\n",
    "    # Update dataExt/geoEle/GeoBndBox/westBL\n",
    "    west_bl_element = root.find(\".//dataExt/geoEle/GeoBndBox/westBL\")\n",
    "    if west_bl_element is not None:\n",
    "        new_west_bl_value = geotiff_extent[0]\n",
    "        west_bl_element.text = str(new_west_bl_value)\n",
    "\n",
    "    east_bl_element = root.find(\".//dataExt/geoEle/GeoBndBox/eastBL\")\n",
    "    if east_bl_element is not None:\n",
    "        new_east_bl_value = geotiff_extent[1]\n",
    "        east_bl_element.text = str(new_east_bl_value)\n",
    "\n",
    "    north_bl_element = root.find(\".//dataExt/geoEle/GeoBndBox/northBL\")\n",
    "    if north_bl_element is not None:\n",
    "        new_north_bl_value = geotiff_extent[2]\n",
    "        north_bl_element.text = str(new_north_bl_value)\n",
    "\n",
    "    south_bl_element = root.find(\".//dataExt/geoEle/GeoBndBox/southBL\")\n",
    "    if south_bl_element is not None:\n",
    "        new_south_bl_value = geotiff_extent[3] \n",
    "        south_bl_element.text = str(new_south_bl_value)\n",
    "\n",
    "    # Save the updated XML to a new file\n",
    "    new_xml_file = f\"{geotiff}.xml\"\n",
    "    tree.write(new_xml_file, encoding=\"utf-8\", xml_declaration=True)"
   ]
  },
  {
   "cell_type": "code",
   "execution_count": 14,
   "metadata": {},
   "outputs": [],
   "source": [
    "INPUTPATH=r\"X:\\georisk\\HaRIA_B_Wind\\projects\\acs\\2. DATA\\1. Work Unit Assessment\\NWRA\\hazard\\local\\RP1_smooth\"\n",
    "title = \"1-year return period local wind hazard data\"\n",
    "for file in os.listdir(INPUTPATH):\n",
    "    basename, ext = os.path.splitext(file)\n",
    "    if ext == '.tif':\n",
    "        updateMetadata(os.path.join(INPUTPATH, file), title)"
   ]
  },
  {
   "cell_type": "code",
   "execution_count": 26,
   "metadata": {},
   "outputs": [
    {
     "name": "stdout",
     "output_type": "stream",
     "text": [
      "Root: X:\\georisk\\HaRIA_B_Wind\\projects\\acs\\2. DATA\\1. Work Unit Assessment\\NWRA\\hazard\\local\\RP10000_smooth\n",
      "Root: X:\\georisk\\HaRIA_B_Wind\\projects\\acs\\2. DATA\\1. Work Unit Assessment\\NWRA\\hazard\\local\\RP1000_smooth\n",
      "Root: X:\\georisk\\HaRIA_B_Wind\\projects\\acs\\2. DATA\\1. Work Unit Assessment\\NWRA\\hazard\\local\\RP100_smooth\n",
      "Root: X:\\georisk\\HaRIA_B_Wind\\projects\\acs\\2. DATA\\1. Work Unit Assessment\\NWRA\\hazard\\local\\RP10_smooth\n",
      "Root: X:\\georisk\\HaRIA_B_Wind\\projects\\acs\\2. DATA\\1. Work Unit Assessment\\NWRA\\hazard\\local\\RP1_smooth\n",
      "Root: X:\\georisk\\HaRIA_B_Wind\\projects\\acs\\2. DATA\\1. Work Unit Assessment\\NWRA\\hazard\\local\\RP2000_smooth\n",
      "Root: X:\\georisk\\HaRIA_B_Wind\\projects\\acs\\2. DATA\\1. Work Unit Assessment\\NWRA\\hazard\\local\\RP200_smooth\n",
      "Root: X:\\georisk\\HaRIA_B_Wind\\projects\\acs\\2. DATA\\1. Work Unit Assessment\\NWRA\\hazard\\local\\RP20_smooth\n",
      "Root: X:\\georisk\\HaRIA_B_Wind\\projects\\acs\\2. DATA\\1. Work Unit Assessment\\NWRA\\hazard\\local\\RP2500_smooth\n",
      "Root: X:\\georisk\\HaRIA_B_Wind\\projects\\acs\\2. DATA\\1. Work Unit Assessment\\NWRA\\hazard\\local\\RP250_smooth\n",
      "Root: X:\\georisk\\HaRIA_B_Wind\\projects\\acs\\2. DATA\\1. Work Unit Assessment\\NWRA\\hazard\\local\\RP25_smooth\n",
      "Root: X:\\georisk\\HaRIA_B_Wind\\projects\\acs\\2. DATA\\1. Work Unit Assessment\\NWRA\\hazard\\local\\RP5000_smooth\n",
      "Root: X:\\georisk\\HaRIA_B_Wind\\projects\\acs\\2. DATA\\1. Work Unit Assessment\\NWRA\\hazard\\local\\RP500_smooth\n",
      "Root: X:\\georisk\\HaRIA_B_Wind\\projects\\acs\\2. DATA\\1. Work Unit Assessment\\NWRA\\hazard\\local\\RP50_smooth\n",
      "Root: X:\\georisk\\HaRIA_B_Wind\\projects\\acs\\2. DATA\\1. Work Unit Assessment\\NWRA\\hazard\\local\\RP5_smooth\n"
     ]
    }
   ],
   "source": [
    "BASEPATH = r\"X:\\georisk\\HaRIA_B_Wind\\projects\\acs\\2. DATA\\1. Work Unit Assessment\\NWRA\\hazard\\local\"\n",
    "for root, dir, files in os.walk(BASEPATH):\n",
    "    if len(files) != 0:\n",
    "        print(f\"Root: {root}\")\n",
    "        retper = os.path.split(root)[1].lstrip(\"RP\").rstrip(\"_smooth\")\n",
    "        title = f\"{retper}-year return period local wind hazard data\"\n",
    "        for file in files:\n",
    "            basename, ext = os.path.splitext(file)\n",
    "            if ext == '.tif':\n",
    "                updateMetadata(os.path.join(root, file), title)\n"
   ]
  }
 ],
 "metadata": {
  "kernelspec": {
   "display_name": "Python 3.9.18 ('tsed')",
   "language": "python",
   "name": "python3"
  },
  "language_info": {
   "codemirror_mode": {
    "name": "ipython",
    "version": 3
   },
   "file_extension": ".py",
   "mimetype": "text/x-python",
   "name": "python",
   "nbconvert_exporter": "python",
   "pygments_lexer": "ipython3",
   "version": "3.9.18"
  },
  "orig_nbformat": 4,
  "vscode": {
   "interpreter": {
    "hash": "78a1d9be3497c69e2d8fd50b57d01abd8947d8f616c51a09b2894fb7e0d0a910"
   }
  }
 },
 "nbformat": 4,
 "nbformat_minor": 2
}
