{
 "cells": [
  {
   "cell_type": "markdown",
   "metadata": {},
   "source": [
    "This notebook is used to assign the AS4055 site class to each individual building, based on the maximum site exposure multiplier value at the building location. AS4055 classes have only been assigned to post-1980 construction era buildings in NEXIS v13.12. However, the AS4055 site class can be instructive for understanding the drivers of risk - e.g. buildings in higher local hazard zones. "
   ]
  },
  {
   "cell_type": "code",
   "execution_count": 1,
   "metadata": {},
   "outputs": [],
   "source": [
    "import os\n",
    "import glob\n",
    "import pandas as pd\n",
    "import numpy as np\n",
    "\n",
    "SRCPATH = r\"X:\\georisk\\HaRIA_B_Wind\\projects\\acs\\2. DATA\\1. Work Unit Assessment\\NWRA\\exposure\"\n",
    "files = glob.glob(os.path.join(SRCPATH, \"*_M4.csv\"))"
   ]
  },
  {
   "cell_type": "code",
   "execution_count": 23,
   "metadata": {},
   "outputs": [],
   "source": [
    "def buildingClass(df, classes, thresholds, AS1170='C'):\n",
    "\n",
    "    for thres, cls in zip(thresholds, classes):\n",
    "        idx = df[(df['M4'] >= thres) & (df['REGION_NEW'].isin(AS1170))].index\n",
    "        df.loc[idx, 'AS4055_CLASS'] = cls\n",
    "\n",
    "    return df"
   ]
  },
  {
   "cell_type": "code",
   "execution_count": 24,
   "metadata": {},
   "outputs": [
    {
     "name": "stderr",
     "output_type": "stream",
     "text": [
      "C:\\Users\\u12161\\AppData\\Local\\Temp\\ipykernel_12544\\1538741281.py:3: DtypeWarning: Columns (30) have mixed types. Specify dtype option on import or set low_memory=False.\n",
      "  df = pd.read_csv(inputfile, sep=\",\",header=0, index_col=0, skipinitialspace=True)\n",
      "C:\\Users\\u12161\\AppData\\Local\\Temp\\ipykernel_12544\\1538741281.py:3: DtypeWarning: Columns (22,30) have mixed types. Specify dtype option on import or set low_memory=False.\n",
      "  df = pd.read_csv(inputfile, sep=\",\",header=0, index_col=0, skipinitialspace=True)\n",
      "C:\\Users\\u12161\\AppData\\Local\\Temp\\ipykernel_12544\\1538741281.py:3: DtypeWarning: Columns (30) have mixed types. Specify dtype option on import or set low_memory=False.\n",
      "  df = pd.read_csv(inputfile, sep=\",\",header=0, index_col=0, skipinitialspace=True)\n",
      "C:\\Users\\u12161\\AppData\\Local\\Temp\\ipykernel_12544\\1538741281.py:3: DtypeWarning: Columns (30) have mixed types. Specify dtype option on import or set low_memory=False.\n",
      "  df = pd.read_csv(inputfile, sep=\",\",header=0, index_col=0, skipinitialspace=True)\n",
      "C:\\Users\\u12161\\AppData\\Local\\Temp\\ipykernel_12544\\1538741281.py:3: DtypeWarning: Columns (30) have mixed types. Specify dtype option on import or set low_memory=False.\n",
      "  df = pd.read_csv(inputfile, sep=\",\",header=0, index_col=0, skipinitialspace=True)\n",
      "C:\\Users\\u12161\\AppData\\Local\\Temp\\ipykernel_12544\\1538741281.py:3: DtypeWarning: Columns (30) have mixed types. Specify dtype option on import or set low_memory=False.\n",
      "  df = pd.read_csv(inputfile, sep=\",\",header=0, index_col=0, skipinitialspace=True)\n",
      "C:\\Users\\u12161\\AppData\\Local\\Temp\\ipykernel_12544\\1538741281.py:3: DtypeWarning: Columns (30) have mixed types. Specify dtype option on import or set low_memory=False.\n",
      "  df = pd.read_csv(inputfile, sep=\",\",header=0, index_col=0, skipinitialspace=True)\n"
     ]
    }
   ],
   "source": [
    "for inputfile in files:\n",
    "    # Apply a basic AS4055 class, based on the M4 value\n",
    "    df = pd.read_csv(inputfile, sep=\",\",header=0, index_col=0, skipinitialspace=True)\n",
    "    df = df[df['M41'].notnull()]\n",
    "    df.rename({'M41': 'M4'}, axis=1, inplace=True)\n",
    "    thresholds = [-99999., 0.0, 0.8413, 1.0018, 1.2668, 1.5997]\n",
    "    classes = ['N2', 'N1', 'N2', 'N3', 'N4', 'N5']\n",
    "    df = buildingClass(df, classes, thresholds, ['A', 'A0', 'A1', 'A2', 'A3', 'A4'])\n",
    "\n",
    "    thresholds = [0.0, 0.8109, 1.0063, 1.2209, 1.4334]\n",
    "    classes = ['N2', 'N3', 'N4', 'N5', 'N6']\n",
    "    df = buildingClass(df, classes, thresholds, ['B', 'B1', 'B2'])\n",
    "\n",
    "    # Region C\n",
    "    thresholds = [0.0, 0.833, 1.0141, 1.2428, 1.4692]\n",
    "    classes = ['C1', 'C2', 'C3', 'C4', 'Special']\n",
    "    df = buildingClass(df, classes, thresholds, ['C'])\n",
    "\n",
    "    # Region D\n",
    "    thresholds = [0.0, 0.8109, 0.9996, 1.1764]\n",
    "    classes = ['C2', 'C3', 'C4', 'Special']\n",
    "    df = buildingClass(df, classes, thresholds, ['D'])\n",
    "    cols = ['SA1_CODE', 'AS4055_CLASS']\n",
    "    base, ext = os.path.splitext(inputfile)\n",
    "    outputfile = f\"{base.replace('M4', 'AS4055')}{ext}\"\n",
    "    df[cols].to_csv(outputfile, index=True)"
   ]
  }
 ],
 "metadata": {
  "kernelspec": {
   "display_name": "process",
   "language": "python",
   "name": "python3"
  },
  "language_info": {
   "codemirror_mode": {
    "name": "ipython",
    "version": 3
   },
   "file_extension": ".py",
   "mimetype": "text/x-python",
   "name": "python",
   "nbconvert_exporter": "python",
   "pygments_lexer": "ipython3",
   "version": "3.9.18"
  }
 },
 "nbformat": 4,
 "nbformat_minor": 2
}
