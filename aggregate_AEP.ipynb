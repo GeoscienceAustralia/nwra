{
 "cells": [
  {
   "cell_type": "code",
   "execution_count": 1204,
   "metadata": {},
   "outputs": [],
   "source": [
    "import os\n",
    "import pandas as pd\n",
    "from os.path import join as pjoin\n"
   ]
  },
  {
   "cell_type": "code",
   "execution_count": 1205,
   "metadata": {},
   "outputs": [],
   "source": [
    "input_file = r\"X:\\georisk\\HaRIA_B_Wind\\projects\\acs\\2. DATA\\1. Work Unit Assessment\\NWRA\\impact\\AEP\\20231206_run_1\\WA\\RP2500.csv\""
   ]
  },
  {
   "cell_type": "code",
   "execution_count": 1206,
   "metadata": {},
   "outputs": [],
   "source": [
    "output_location = r\"X:\\georisk\\HaRIA_B_Wind\\projects\\acs\\2. DATA\\1. Work Unit Assessment\\NWRA\\impact\\AEP\\LGA\\WA\""
   ]
  },
  {
   "cell_type": "code",
   "execution_count": 1207,
   "metadata": {},
   "outputs": [
    {
     "name": "stderr",
     "output_type": "stream",
     "text": [
      "C:\\Users\\U02618\\AppData\\Local\\Temp\\ipykernel_16904\\3770214654.py:1: DtypeWarning: Columns (30) have mixed types. Specify dtype option on import or set low_memory=False.\n",
      "  df = pd.read_csv(input_file)\n"
     ]
    }
   ],
   "source": [
    "df = pd.read_csv(input_file)\n",
    "SA2 = df.groupby('LGA_CODE').agg(structural_mean=('structural','mean'),\n",
    "                                 structural_max=('structural', 'max'),\n",
    "                                 structural_loss_mean=('structural_loss','mean'),\n",
    "                                 structural_loss_max=('structural_loss', 'max'),\n",
    "                                 REPLACEMENT_VALUE_mean=('REPLACEMENT_VALUE','mean'),\n",
    "                                 REPLACEMENT_VALUE_max=('REPLACEMENT_VALUE', 'max'))"
   ]
  },
  {
   "cell_type": "code",
   "execution_count": 1208,
   "metadata": {},
   "outputs": [],
   "source": [
    "SA2.to_csv(pjoin(output_location, \"RP2500_LGA_agg.csv\"))"
   ]
  }
 ],
 "metadata": {
  "language_info": {
   "name": "python"
  }
 },
 "nbformat": 4,
 "nbformat_minor": 2
}
