{
 "cells": [
  {
   "cell_type": "markdown",
   "metadata": {},
   "source": [
    "## Provenance documentation for regonal wind hazard creation\n",
    "\n",
    "This noteook generates a provenance document describing the creation of regional wind hazard layers for use in the National Wind Risk Asessment (2023/24). \n",
    "\n",
    "Dates, paths and filenames are set manually in the relevant cells. "
   ]
  },
  {
   "cell_type": "code",
   "execution_count": null,
   "metadata": {},
   "outputs": [],
   "source": [
    "from prov.model import ProvDocument\n",
    "from prov.dot import prov_to_dot\n",
    "from datetime import datetime"
   ]
  },
  {
   "cell_type": "code",
   "execution_count": null,
   "metadata": {},
   "outputs": [],
   "source": [
    "provdoc = ProvDocument()\n",
    "provdoc.set_default_namespace(\"\")\n",
    "provdoc.add_namespace(\"nwra\", \"http://www.ga.gova.au/hazards\")\n",
    "provdoc.add_namespace(\"prov\", \"http://www.w3.org/ns/prov#\")\n",
    "provdoc.add_namespace(\"xsd\", \"http://www.w3.org/2001/XMLSchema#\")\n",
    "provdoc.add_namespace(\"foaf\", \"http://xmlns.com/foaf/0.1/\")\n",
    "provdoc.add_namespace(\"void\", \"http://vocab.deri.ie/void#\")\n",
    "provdoc.add_namespace(\"dcterms\", \"http://purl.org/dc/terms/\")\n"
   ]
  },
  {
   "cell_type": "markdown",
   "metadata": {},
   "source": [
    "### Agents\n",
    "\n",
    "1. Geoscience Australia\n",
    "2. Geoscience Australia staff\n",
    "3. ArcGIS Pro Geoprocessing Model (a \"Software Agent\")"
   ]
  },
  {
   "cell_type": "code",
   "execution_count": null,
   "metadata": {},
   "outputs": [],
   "source": [
    "\n",
    "provdoc.agent(\":GeoscienceAustralia\",\n",
    "              {\n",
    "                  \"foaf:name\": \"Geoscience Australia\",\n",
    "                  \"dcterms:type\": \"foaf:Organization\",\n",
    "                  \"foaf:mbox\": \"hazards@ga.gov.au\"\n",
    "              }\n",
    "             )\n",
    "\n",
    "provdoc.agent(\"nwra:ConvertWindZones\",\n",
    "              {\n",
    "                  \"dcterms:type\": \"prov:SoftwareAgent\",\n",
    "                  \"dcterms:title\": \"Convert wind zones to raster\",\n",
    "                  \"dcterms:description\": \"Geoprocessing model to convert wind zones to raster layers and apply focal statistics to smooth data\",\n",
    "                  \"dcterms:created\": datetime(2023, 10, 13)\n",
    "              })\n",
    "\n",
    "provdoc.agent(\":NHIStaff\",\n",
    "              {\n",
    "                  \"foaf:name\": \"Craig Arthur\",\n",
    "                  \"dcterms:type\": \"prov:Person\",\n",
    "                  \"foaf:mbox\": \"craig.arthur@ga.gov.au\",\n",
    "              })"
   ]
  },
  {
   "cell_type": "markdown",
   "metadata": {},
   "source": [
    "### Source datasets\n",
    "\n",
    "1. AS/NZS 1170.2 (2021) definition\n",
    "2. Wind loading regions feature class\n",
    "3. Australian coastline data"
   ]
  },
  {
   "cell_type": "code",
   "execution_count": null,
   "metadata": {},
   "outputs": [],
   "source": [
    "e1 = provdoc.entity(\":ASNZS1170.2\",\n",
    "                    {\"dcterms:title\": \"AS/NZS 1170.2:2021 Structural design actions - Wind actions\",\n",
    "                     \"dcterms:type\": \"foaf:Document\",\n",
    "                     \"prov:location\": \"https://www.saiglobal.com/online/Product/Index/EPCO2802029297\",\n",
    "                     \"dcterms:created\": datetime(2021, 7, 30),\n",
    "                     \"dcterms:creator\": \"Standards Australia/Standards New Zealand\"\n",
    "                     })\n",
    "\n",
    "\n",
    "e2 = provdoc.entity(\"nwra:windloadingregions\",\n",
    "                    {\n",
    "                        \"dcterms:title\": \"as1170windzones\",\n",
    "                        \"dcterms:description\": \"Wind loading regions feature class\",\n",
    "                        \"dcterms:type\": \"Esri file geodatabase feature class\",\n",
    "                        \"prov:location\": \"X:/georisk/HaRIA_B_Wind/data/derived/boundaries/as1170.2/windzones/windzones.gdb\",\n",
    "                        \"dcterms:creted\": datetime(2023, 9, 18),\n",
    "                        \"dcterms:creator\": \":GeoscienceAustralia\"\n",
    "                     })\n",
    "\n",
    "e3 = provdoc.entity(\":AustralianCoastlines\",\n",
    "                    {\n",
    "                        \"dcterms:title\": \"Australian Statistical Geography Standard 2021 - Australian Coastline\",\n",
    "                        \"dcterms:type\": \"Esri file geodatabase feature class\",\n",
    "                        \"prov:location\": \"X:/georisk/HaRIA_B_Wind/data/derived/boundaries/as1170.2/windzones/windzones.gdb\",\n",
    "                        \"dcterms:created\": datetime(2022, 3, 2),\n",
    "                        \"dcterms:creator\": \"Australian Bureau of Statistics\"\n",
    "                    })\n",
    "\n",
    "e4 = provdoc.entity(\"nwra:windloadingregionswithwindspeed\",\n",
    "                    {\n",
    "                        \"dcterms:title\": \"as1170windzones\",\n",
    "                        \"dcterms:description\": \"Wind loading regions feature class with return period wind speeds\",\n",
    "                        \"dcterms:type\": \"Esri file geodatabase feature class\",\n",
    "                        \"prov:location\": \"X:/georisk/HaRIA_B_Wind/data/derived/boundaries/as1170.2/windzones/windzones.gdb\",\n",
    "                        \"dcterms:created\": datetime(2023, 9, 18),\n",
    "                        \"dcterms:creator\": \":GeoscienceAustralia\"\n",
    "                    })\n",
    "\n",
    "e5 = provdoc.entity(\"nwra:extededwindloadingregionswithwindspeed\",\n",
    "                    {\n",
    "                        \"dcterms:title\": \"extended_wind_regions\",\n",
    "                        \"dcterms:description\": \"Wind loading regions feature class extended offshore with return period wind speeds\",\n",
    "                        \"dcterms:type\": \"Esri file geodatabase feature class\",\n",
    "                        \"prov:location\": \"X:/georisk/HaRIA_B_Wind/data/derived/boundaries/as1170.2/windzones/windzones.gdb\",\n",
    "                        \"dcterms:created\": datetime(2023, 9, 19),\n",
    "                        \"dcterms:creator\": \":GeoscienceAustralia\"\n",
    "                    })\n",
    "\n",
    "e6 = provdoc.entity(\"nwra:regionalwindrasters\",\n",
    "                    {\n",
    "                        \"dcterms:title\": \"Regional wind rasters\",\n",
    "                        \"dcterms:description\": \"Raster datasets of regional wind speed for each defined return period\",\n",
    "                        \"dcterms:type\": \"Esri raster dataset\",\n",
    "                        \"prov:location\": \"X:/georisk/HaRIA_B_Wind/projects/acs/2. DATA/1. Work Unit Assessment/NWRA/NWRA.gdb/RP*_region\",\n",
    "                        \"dcterms:created\": datetime(2023, 10, 13, 9, 28),\n",
    "                        \"dcterms:creator\": \":GeoscienceAustralia\"\n",
    "                     })\n",
    "\n",
    "e7 = provdoc.entity(\"nwra:smoothedregionalwindrasters\",\n",
    "                    {\n",
    "                        \"dcterms:title\": \"Smoothed regional wind rasters\",\n",
    "                        \"dcterms:description\": \"Raster datasets of regional wind speed for each defined return period, with smoothing\",\n",
    "                        \"dcterms:type\": \"GeoTIFF dataset\",\n",
    "                        \"prov:location\": \"X:/georisk/HaRIA_B_Wind/projects/acs/2. DATA/1. Work Unit Assessment/NWRA/hazard/regional/RP*_smooth.tif\",\n",
    "                        \"dcterms:created\": datetime(2023, 10, 13, 9, 28),\n",
    "                        \"dcterms:creator\": \":GeoscienceAustralia\"\n",
    "                     })\n"
   ]
  },
  {
   "cell_type": "markdown",
   "metadata": {},
   "source": [
    "### Activities\n",
    "\n",
    "This sets out all the activities performed in the process. "
   ]
  },
  {
   "cell_type": "code",
   "execution_count": null,
   "metadata": {},
   "outputs": [],
   "source": [
    "a1 = provdoc.activity(\"nwra:WindRegionFeatureClassCreation\",\n",
    "                      endTime=datetime(2022, 3, 2, 21, 4), \n",
    "                      other_attributes={\n",
    "                          \"dcterms:title\": \"AS/NZS 1170.2 wind loading regions feature class creation\"\n",
    "                      })\n",
    "a2 = provdoc.activity(\"nwra:WindSpeedAssignment\",\n",
    "                      startTime=datetime(2023, 9, 18, 9, 15),\n",
    "                      endTime=datetime(2023, 9, 18, 9, 23),\n",
    "                      other_attributes={\n",
    "                          \"dcterms:title\": \"Assign design wind speeds to wind regions\",\n",
    "                          \"dcterms:description\": \"Add attributes to the feature class for each defined return period and set the value to the corresponding value from AS/NZS 1170.2: 2021\"\n",
    "                          })\n",
    "a3 = provdoc.activity(\"nwra:extendWindZones\",\n",
    "                      startTime=datetime(2023, 9, 18, 9, 33),\n",
    "                      endTime=datetime(2023, 9, 19, 12, 6),\n",
    "                      other_attributes={\n",
    "                          \"dcterms:title\": \"Extend wind loading regions to offshore areas\",\n",
    "                          \"dcterms:description\": \"Create an offshore zone adjacent to onshore wind zones that have the same attributes, to extend the wind zones 50 km offshore\"\n",
    "                              })\n",
    "a4 = provdoc.activity(\"nwra:ConvertWindZonesToRaster\",\n",
    "                      startTime=datetime(2023, 10, 13, 9, 28),\n",
    "                      endTime=datetime(2023, 10, 13, 10, 23),\n",
    "                      other_attributes={\n",
    "                          \"dcterms:title\": \"Convert wind zones to raster datasets geoprocessing model\",\n",
    "                          \"dcterms:description\": \"Convert the wind zones to a set of temporary raster datasets that have the value of the return period wind speed\"\n",
    "                          })\n",
    "a5 = provdoc.activity(\"nwra:ApplySmoothing\",\n",
    "                      startTime=datetime(2023, 10, 13, 9, 28),\n",
    "                      endTime=datetime(2023, 10, 13, 10, 23),\n",
    "                      other_attributes={\n",
    "                          \"dcterms:title\": \"Apply focal statistics\",\n",
    "                          \"dcterms:description\": \"Apply a smoothing filter with 50 km length scale to regional wind hazard data\",\n",
    "                      })\n"
   ]
  },
  {
   "cell_type": "markdown",
   "metadata": {},
   "source": [
    "### Associations\n",
    "\n",
    "Specify the associations between entities, activities and agents"
   ]
  },
  {
   "cell_type": "code",
   "execution_count": null,
   "metadata": {},
   "outputs": [],
   "source": [
    "provdoc.wasDerivedFrom(e2, e1, activity=a1)\n",
    "provdoc.wasDerivedFrom(e2, e3, activity=a1)\n",
    "provdoc.wasDerivedFrom(e4, e2, activity=a2)\n",
    "provdoc.wasDerivedFrom(e5, e4, activity=a3)\n",
    "provdoc.wasDerivedFrom(e5, e3, activity=a3)\n",
    "provdoc.wasDerivedFrom(e6, e5, activity=a4)\n",
    "provdoc.wasDerivedFrom(e7, e6, activity=a5)\n",
    "\n",
    "provdoc.wasGeneratedBy(e2, a1)\n",
    "provdoc.wasGeneratedBy(e4, a2)\n",
    "provdoc.wasGeneratedBy(e5, a3)\n",
    "provdoc.wasGeneratedBy(e6, a4)\n",
    "provdoc.wasGeneratedBy(e7, a5)\n",
    "\n",
    "provdoc.wasAssociatedWith(a1, \":NHIStaff\")\n",
    "provdoc.wasAssociatedWith(a2, \":NHIStaff\")\n",
    "provdoc.wasAssociatedWith(a3, \":NHIStaff\")\n",
    "provdoc.wasAssociatedWith(a4, \"nwra:ConvertWindZones\")\n",
    "provdoc.wasAssociatedWith(a5, \"nwra:ConvertWindZones\")\n",
    "provdoc.wasAttributedTo(e2, \":NHIStaff\")\n",
    "\n",
    "provdoc.actedOnBehalfOf(\"nwra:ConvertWindZones\", \":NHIStaff\", a5)\n",
    "provdoc.actedOnBehalfOf(\":NHIStaff\", \":GeoscienceAustralia\")\n"
   ]
  },
  {
   "cell_type": "markdown",
   "metadata": {},
   "source": [
    "### Print the provenance\n",
    "\n",
    "Using the PROV notation, print the provenance information for inspection"
   ]
  },
  {
   "cell_type": "code",
   "execution_count": null,
   "metadata": {},
   "outputs": [],
   "source": [
    "print(provdoc.get_provn())"
   ]
  },
  {
   "cell_type": "markdown",
   "metadata": {},
   "source": [
    "### Write the provenance\n",
    "\n",
    "Write the provenance information to XML and generate a directed graph of the associations"
   ]
  },
  {
   "cell_type": "code",
   "execution_count": null,
   "metadata": {},
   "outputs": [],
   "source": [
    "dot = prov_to_dot(provdoc, direction=\"TB\", use_labels=True)\n",
    "dot.write_png('regionalwindhazardprovenance.png')\n",
    "provdoc.serialize('regionalwindhazardprovenance.xml', format='xml')"
   ]
  },
  {
   "cell_type": "markdown",
   "metadata": {},
   "source": [
    "### Validate the PROV-XML\n",
    "\n",
    "Run the resulting XML file through the schema validation to ensure the XML is valid PROV information. If there is an exception raised at this point, then there is an error somewhere back in the definition of the elements. Check the specific line indicated in the XML file for errors.\n",
    "\n",
    "If no errors are reported, then the XML file is a valid PROV-XML document."
   ]
  },
  {
   "cell_type": "code",
   "execution_count": null,
   "metadata": {},
   "outputs": [],
   "source": [
    "from lxml import etree\n",
    "from pathlib import Path\n",
    "\n",
    "PROVXML_SCHEMA=\"C:/WorkSpace/prov/prov.xsd\"\n",
    "schema = etree.XMLSchema(etree.parse(PROVXML_SCHEMA))\n",
    "schema.assert_(etree.parse('regionalwindhazardprovenance.xml')) "
   ]
  }
 ],
 "metadata": {
  "kernelspec": {
   "display_name": "Python 3.9.18 ('tsed')",
   "language": "python",
   "name": "python3"
  },
  "language_info": {
   "codemirror_mode": {
    "name": "ipython",
    "version": 3
   },
   "file_extension": ".py",
   "mimetype": "text/x-python",
   "name": "python",
   "nbconvert_exporter": "python",
   "pygments_lexer": "ipython3",
   "version": "3.9.18"
  },
  "orig_nbformat": 4,
  "vscode": {
   "interpreter": {
    "hash": "78a1d9be3497c69e2d8fd50b57d01abd8947d8f616c51a09b2894fb7e0d0a910"
   }
  }
 },
 "nbformat": 4,
 "nbformat_minor": 2
}
